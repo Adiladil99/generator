{
 "cells": [
  {
   "cell_type": "code",
   "execution_count": 1,
   "metadata": {},
   "outputs": [],
   "source": [
    "from PIL import Image, ImageDraw, ImageFont\n",
    "import os\n",
    "\n",
    "def create_collage_with_names(image_paths, output_path, collage_size=(800, 800), margin=10):\n",
    "    num_images = len(image_paths)\n",
    "    \n",
    "    # Calculate the number of rows and columns for the collage\n",
    "    rows = int(num_images ** 0.5)\n",
    "    cols = (num_images + rows - 1) // rows\n",
    "    \n",
    "    # Create a blank canvas for the collage\n",
    "    collage = Image.new('RGB', collage_size, (255, 255, 255))\n",
    "\n",
    "    # Initialize variables for positioning images and text\n",
    "    x, y = 0, 0\n",
    "    text_x_offset = 10\n",
    "    text_y_offset = 10\n",
    "    font = ImageFont.load_default()\n",
    "\n",
    "    # Loop through the image paths and paste them onto the collage with names\n",
    "    for img_path in image_paths:\n",
    "        img = Image.open(img_path)\n",
    "        img.thumbnail((collage_size[0] // cols - margin, collage_size[1] // rows - margin))\n",
    "        collage.paste(img, (x, y))\n",
    "        \n",
    "        # Extract the image name from the path and create a text overlay\n",
    "        image_name = os.path.basename(img_path)\n",
    "        draw = ImageDraw.Draw(collage)\n",
    "        draw.text((x + text_x_offset, y + text_y_offset), image_name, fill=(0, 0, 0), font=font)\n",
    "        \n",
    "        x += collage_size[0] // cols\n",
    "        if x >= collage_size[0]:\n",
    "            x = 0\n",
    "            y += collage_size[1] // rows\n",
    "\n",
    "    # Save the collage with names\n",
    "    collage.save(output_path)"
   ]
  },
  {
   "cell_type": "code",
   "execution_count": 2,
   "metadata": {},
   "outputs": [
    {
     "name": "stdout",
     "output_type": "stream",
     "text": [
      "Collage saved as G:\\volumeD9july2023\\python\\turtle\\stringart\\collarge\\28-20230924T105203Z-001\\28\\28collage.jpg\n"
     ]
    }
   ],
   "source": [
    "folder_path = r\"G:\\volumeD9july2023\\python\\turtle\\stringart\\collarge\\final_filters\\37\"\n",
    "image_extensions = ['.jpg', '.jpeg', '.png', '.gif', '.bmp']\n",
    "\n",
    "# List image files in the folder\n",
    "image_paths = [f for f in os.listdir(folder_path) if os.path.isfile(os.path.join(folder_path, f)) and any(f.lower().endswith(ext) for ext in image_extensions)]\n",
    "\n",
    "if __name__ == \"__main__\":\n",
    "    # List of image file paths to include in the collage\n",
    "    # image_paths = os.listdir(folder_path)\n",
    "    img_paths = [os.path.join(folder_path,i) for i in image_paths]\n",
    "\n",
    "    folder_name = os.path.basename(folder_path)\n",
    "    # Output path for the collage\n",
    "    output_path = os.path.join(folder_path,folder_name+'collage.jpg')\n",
    "\n",
    "    # Create the collage\n",
    "    create_collage_with_names(img_paths, output_path)\n",
    "    print(f\"Collage saved as {output_path}\")"
   ]
  },
  {
   "cell_type": "code",
   "execution_count": null,
   "metadata": {},
   "outputs": [],
   "source": []
  }
 ],
 "metadata": {
  "kernelspec": {
   "display_name": "pcenv",
   "language": "python",
   "name": "pcenv"
  },
  "language_info": {
   "codemirror_mode": {
    "name": "ipython",
    "version": 3
   },
   "file_extension": ".py",
   "mimetype": "text/x-python",
   "name": "python",
   "nbconvert_exporter": "python",
   "pygments_lexer": "ipython3",
   "version": "3.10.9"
  },
  "orig_nbformat": 4
 },
 "nbformat": 4,
 "nbformat_minor": 2
}
